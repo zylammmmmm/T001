{
  "nbformat": 4,
  "nbformat_minor": 0,
  "metadata": {
    "colab": {
      "provenance": [],
      "authorship_tag": "ABX9TyPB1IN+lBsOTEXW1OkNanl/",
      "include_colab_link": true
    },
    "kernelspec": {
      "name": "python3",
      "display_name": "Python 3"
    },
    "language_info": {
      "name": "python"
    }
  },
  "cells": [
    {
      "cell_type": "markdown",
      "metadata": {
        "id": "view-in-github",
        "colab_type": "text"
      },
      "source": [
        "<a href=\"https://colab.research.google.com/github/zylammmmmm/T001/blob/main/CDS4005A1_Q2ZhengYingLam.ipynb\" target=\"_parent\"><img src=\"https://colab.research.google.com/assets/colab-badge.svg\" alt=\"Open In Colab\"/></a>"
      ]
    },
    {
      "cell_type": "code",
      "execution_count": 60,
      "metadata": {
        "colab": {
          "base_uri": "https://localhost:8080/"
        },
        "id": "ouub4ZiYdSed",
        "outputId": "dd0b9670-b4da-4051-f9d3-14f04369cdee"
      },
      "outputs": [
        {
          "output_type": "stream",
          "name": "stdout",
          "text": [
            "Requirement already satisfied: pyspark in /usr/local/lib/python3.11/dist-packages (3.5.5)\n",
            "Requirement already satisfied: py4j==0.10.9.7 in /usr/local/lib/python3.11/dist-packages (from pyspark) (0.10.9.7)\n"
          ]
        }
      ],
      "source": [
        "!pip install pyspark"
      ]
    },
    {
      "cell_type": "code",
      "source": [
        "from google.colab import drive\n",
        "drive.mount('/content/drive/')\n",
        "data_path = \"/content/drive/MyDrive/Colab Notebooks/\""
      ],
      "metadata": {
        "colab": {
          "base_uri": "https://localhost:8080/"
        },
        "id": "ySf_6JkldYM8",
        "outputId": "97e269e3-fb03-4380-feb2-b8a15421798d"
      },
      "execution_count": 61,
      "outputs": [
        {
          "output_type": "stream",
          "name": "stdout",
          "text": [
            "Drive already mounted at /content/drive/; to attempt to forcibly remount, call drive.mount(\"/content/drive/\", force_remount=True).\n"
          ]
        }
      ]
    },
    {
      "cell_type": "code",
      "source": [
        "# create entry points to spark\n",
        "from pyspark.sql import SparkSession\n",
        "\n",
        "ss  = SparkSession.builder \\\n",
        "                            .master(\"local[1]\")\\\n",
        "                            .appName(\"sold product\")\\\n",
        "                            .getOrCreate()\n",
        "spark = ss.sparkContext\n"
      ],
      "metadata": {
        "id": "PhkiXlU2dlF8"
      },
      "execution_count": 62,
      "outputs": []
    },
    {
      "cell_type": "code",
      "source": [
        "\n",
        "df = ss.read.option(\"multiline\", \"true\") \\\n",
        "    .json(data_path+ \"sold_products.json\")\n",
        "\n",
        "# Prepare keyword mapping\n",
        "keywords = {\n",
        "    \"smartphone\": \"e\",\n",
        "    \"charger\": \"e\",\n",
        "    \"laptop\": \"e\",\n",
        "    \"electronics\": \"e\",\n",
        "    \"sofa\": \"f\",\n",
        "    \"table\": \"f\",\n",
        "    \"bookshelf\": \"f\",\n",
        "    \"furniture\": \"f\",\n",
        "    \"bag\": \"a\",\n",
        "    \"accessories\": \"a\",\n",
        "    \"clothing\": \"c\",\n",
        "    \"shirt\": \"c\",\n",
        "    \"pants\": \"c\",\n",
        "    \"jacket\": \"c\",\n",
        "    \"other\": \"o\"\n",
        "}"
      ],
      "metadata": {
        "id": "iSQAH2FQdrwT"
      },
      "execution_count": 63,
      "outputs": []
    },
    {
      "cell_type": "code",
      "source": [
        "from pyspark.sql.functions import  lower, udf\n",
        "def classifyProduct(product_name):\n",
        "    lowerProdName = product_name.lower()  # Convert to lowercase for matching\n",
        "    for keyword, category in keywords.items():\n",
        "        if keyword in lowerProdName:\n",
        "            return category\n",
        "    return 'o'  # Default category if no keywords matched\n",
        "\n",
        "# Register the UDF\n",
        "classify_udf = udf(classifyProduct)"
      ],
      "metadata": {
        "id": "aIH1ktbGm-RE"
      },
      "execution_count": 64,
      "outputs": []
    },
    {
      "cell_type": "code",
      "source": [
        "from pyspark.sql import functions as F\n",
        "from pyspark.sql.functions import explode, col\n",
        "\n",
        "classified_df = df.select(\n",
        "    col(\"product_id\"),\n",
        "    F.arrays_zip(col(\"product_names\"), col(\"descriptions\")).alias(\"NameNDescription\")\n",
        ")\n",
        "\n",
        "# Explode classified_df and create new columns\n",
        "seperate_df = classified_df.select(\n",
        "    col(\"product_id\"),\n",
        "    F.explode(col(\"NameNDescription\")).alias(\"productInfo\")\n",
        ").select(\n",
        "    col(\"product_id\"),\n",
        "    lower(col(\"productInfo.product_names\")).alias(\"product_name_lower \"),\n",
        "    col(\"productInfo.descriptions\").alias(\"full_description \")\n",
        ")\n",
        "\n",
        "# Classify products and handle full_description\n",
        "ordered_df = seperate_df.withColumn(\n",
        "    \"category_id\", classify_udf(col(\"product_name_lower \"))\n",
        ").withColumn(\n",
        "    \"full_description \", F.regexp_replace(F.concat_ws(' ', col(\"full_description \")), \"blanket\", \"\")\n",
        ")\n",
        "\n",
        "rearrange_df = ordered_df.withColumn(\"category_id\", col(\"category_id\")) \\\n",
        "    .withColumn(\"product_name_lower\", col(\"product_name_lower \")) \\\n",
        "    .withColumn(\"full_description\", col(\"full_description \")) \\\n",
        "    .select(\"product_id\", \"category_id\", \"product_name_lower\", \"full_description\")\n",
        "\n",
        "# Apply filtering for non-\"Other\" categories and descriptions with more than 50 words and sort the DataFrame by product_id in ascending order\n",
        "final_df = rearrange_df.filter(\n",
        "    (col(\"category_id\") != 'o') &\n",
        "    (F.size(F.split(col(\"full_description \"), ' ')) > 50)).orderBy(col(\"product_id\").asc())\n",
        "\n",
        "\n"
      ],
      "metadata": {
        "id": "2yaL2JsXnL08"
      },
      "execution_count": 65,
      "outputs": []
    },
    {
      "cell_type": "code",
      "source": [
        "\n",
        "#  save the path of JSON file\n",
        "output_path = \"/path/to/save/products.json\"\n",
        "\n",
        "# Save  DataFrame\n",
        "final_df.write.json(output_path, mode=\"overwrite\")\n",
        "\n",
        "# Show the results\n",
        "final_df.show(truncate=False)"
      ],
      "metadata": {
        "colab": {
          "base_uri": "https://localhost:8080/"
        },
        "id": "BAwRQr7yn08M",
        "outputId": "22685a8c-f751-499f-fbf3-c5dd556a0ebe"
      },
      "execution_count": 66,
      "outputs": [
        {
          "output_type": "stream",
          "name": "stdout",
          "text": [
            "+----------+-----------+------------------+-------------------------------------------------------------------------------------------------------------------------------------------------------------------------------------------------------------------------------------------------------------------------------------------------------------------------------------------------------------------------------------------------------------------------------------------------------------------------------------------------------------------------------------------------------------------------------------------------------------------------------------------------------------------------------------------------------------------------------------------------------------------------------------------------------------------------------------------------------------------------------------------------------------------------------------------------------------------------------------+\n",
            "|product_id|category_id|product_name_lower|full_description                                                                                                                                                                                                                                                                                                                                                                                                                                                                                                                                                                                                                                                                                                                                                                                                                                                                                                                                                                     |\n",
            "+----------+-----------+------------------+-------------------------------------------------------------------------------------------------------------------------------------------------------------------------------------------------------------------------------------------------------------------------------------------------------------------------------------------------------------------------------------------------------------------------------------------------------------------------------------------------------------------------------------------------------------------------------------------------------------------------------------------------------------------------------------------------------------------------------------------------------------------------------------------------------------------------------------------------------------------------------------------------------------------------------------------------------------------------------------+\n",
            "|P001      |e          |smartphone        |This smartphone is a high-end device equipped with 128GB of storage for all your apps, photos, and videos. It features a cutting-edge processor capable of handling multiple tasks with ease. The camera system is designed to capture stunning photos and videos, even in low-light conditions. Its sleek design ensures it fits comfortably in your hand or pocket. The display is a vibrant OLED panel with high resolution, providing sharp visuals and vivid colors. It comes with advanced security features such as facial recognition and fingerprint scanning. The battery is long-lasting, ensuring you stay connected throughout the day without frequent charging. It supports 5G connectivity, enabling lightning-fast internet speeds on the go. The operating system is user-friendly and regularly updated for enhanced security and features. This smartphone is perfect for photography enthusiasts, gamers, and professionals alike.                              |\n",
            "|P001      |e          |wireless charger  |This wireless charger offers fast charging capabilities for most smartphones, including the latest iPhones and Android models. It has a sleek and compact design that fits seamlessly into any space. The non-slip base ensures stability and prevents your phone from sliding off while charging. It supports both horizontal and vertical charging orientations for added convenience. The charger is compatible with cases up to 5mm thick, so you don’t need to remove your case. It features overcharge protection, keeping your device safe during long charging sessions. An LED indicator shows the charging status without being too bright or distracting. The charger is designed with energy efficiency in mind, reducing power consumption. Its lightweight build makes it portable and perfect for travel or office use. This wireless charger is an essential accessory for anyone who wants convenience and speed.                                                   |\n",
            "|P001      |e          |laptop bag        |This laptop bag is designed to be both stylish and functional, making it ideal for professionals and students alike. It features multiple compartments to organize your laptop, documents, and accessories efficiently. The main compartment is padded to provide excellent protection for laptops up to 15.6 inches. Made from high-quality and water-resistant material, it ensures durability and protection in all weather conditions. The bag has a sleek and minimalist design, suitable for both formal and casual occasions. Adjustable shoulder straps and padded handles provide maximum comfort during use. It includes additional pockets for chargers, pens, and small gadgets, keeping everything in its place. The zippers are smooth and durable, ensuring long-term reliability. The bag is lightweight, making it easy to carry without adding unnecessary weight. Overall, this laptop bag combines style, functionality, and durability in one package.          |\n",
            "|P002      |f          |sofa set          |This modern sofa set is a luxurious addition to any living room, combining style and comfort. The cushions are designed with high-density foam for superior support and relaxation. It features a sturdy wooden frame that ensures long-lasting durability. The upholstery is made from high-quality fabric that is both soft and easy to clean. Its sleek and contemporary design complements a wide range of interior styles. The sofa set includes multiple seating options, perfect for hosting guests or family gatherings. It is available in various colors to match your home decor. The armrests are ergonomically designed for added comfort during extended use. Assembly is quick and straightforward, with all necessary tools included in the package. This sofa set is an elegant and practical choice for enhancing your living space.                                                                                                                               |\n",
            "|P002      |f          |dining table      |This dining table is a beautifully crafted piece of furniture made from high-quality wood. It comfortably seats up to six people, making it ideal for family meals or dinner parties. The table features a smooth and polished surface that is easy to clean and maintain. Its sturdy legs provide excellent stability and support, even during heavy use. The design is a perfect blend of functionality and aesthetics, enhancing any dining room's appeal. It comes in a neutral finish that pairs well with a variety of chair styles. The table is resistant to scratches and stains, ensuring it stays looking new for years. Assembly instructions are clear and easy to follow, requiring minimal effort to set up. It is spacious enough to accommodate large meals, serving dishes, and decorations. This dining table is an excellent investment for creating a warm and inviting dining experience.                                                                      |\n",
            "|P002      |f          |bookshelf         |This bookshelf is the perfect solution for organizing your books, decorations, or office supplies. Its compact design fits seamlessly into small spaces while providing ample storage. The shelves are made from durable materials, capable of holding heavy books and items. It features a minimalist design that complements modern and traditional interiors alike. The bookshelf is easy to assemble, with all necessary tools and instructions included. Each shelf is adjustable, allowing you to customize the layout based on your needs. The surface is finished with a scratch-resistant coating for added durability. Its lightweight design makes it easy to move and reposition as needed. The bookshelf is also available in different colors to match your home or office decor. Overall, it is a functional and stylish addition to any room, helping you stay organized.                                                                                            |\n",
            "|P003      |c          |t-shirt           |This T-Shirt is made from 100% premium cotton, providing a soft and breathable fabric for all-day comfort. It comes in a variety of vibrant colors and sizes to suit everyone’s preferences. The classic crew neckline and short sleeves make it a versatile choice for casual and semi-formal occasions. It is lightweight yet durable, perfect for layering or standalone wear. The material is machine washable and resistant to shrinking, ensuring long-lasting use. It features reinforced stitching for added durability, even with frequent washing. The design is minimalist, making it easy to pair with jeans, shorts, or skirts. Its moisture-wicking properties help keep you cool and dry during warm weather. This T-shirt is ideal for outdoor activities, lounging, or simply running errands. With its affordable price and quality construction, it’s a wardrobe essential for everyone.                                                                          |\n",
            "|P003      |c          |jacket            |This jacket is designed for colder climates, offering excellent insulation and warmth. It features a water-resistant outer layer, keeping you dry during light rain or snow. The inner lining is made from soft fleece material, providing additional comfort and thermal retention. It includes an adjustable hood for added protection against wind and cold weather conditions. The jacket is equipped with multiple zippered pockets for secure storage of essentials like keys and phones. Its full-length zipper ensures easy wear and allows for customizable ventilation. Elastic cuffs and a drawstring hem help retain heat and prevent cold air from entering. The jacket is lightweight yet durable, making it suitable for outdoor activities like hiking or camping. It comes in a variety of colors and sizes to cater to different preferences and styles. This jacket combines functionality, comfort, and style, making it a must-have for winter or rainy seasons.|\n",
            "|P013      |e          |laptop sleeve     |This laptop sleeve is designed to protect your device from scratches, bumps, and spills. It features a soft, padded interior that cushions your laptop during transport. The sleeve is made from durable, water-resistant material, ensuring long-lasting protection. It includes a zippered closure to keep your laptop securely in place. The slim and lightweight design makes it easy to carry in a backpack or briefcase. The sleeve is available in multiple sizes to fit various laptop models. Its sleek and minimalist design complements any style, from professional to casual. The exterior includes a small pocket for storing accessories like chargers or USB drives. The laptop sleeve is easy to clean, with a wipeable surface that resists dirt and stains. This accessory is a must-have for anyone looking to keep their laptop safe and stylish.                                                                                                               |\n",
            "|P016      |e          |portable charger  |This portable charger is designed to keep your devices powered up while on the go. It features a high-capacity battery that can charge smartphones, tablets, and other devices multiple times. The charger includes multiple USB ports, allowing you to charge multiple devices simultaneously. It is lightweight and compact, making it easy to carry in a bag or pocket. The charger has a built-in LED display that shows the remaining battery percentage. It is compatible with a wide range of devices, including iPhones, Android phones, and iPads. The charger is easy to recharge, with a micro-USB or USB-C input depending on the model. Its durable construction ensures it withstands daily use and travel. The portable charger is perfect for long trips, outdoor adventures, or daily commutes. This accessory is a must-have for anyone who relies on their devices throughout the day.                                                                            |\n",
            "|P017      |a          |sleeping bag      |This sleeping bag is designed to keep you warm and comfortable during camping or outdoor trips. It features a soft and insulated lining that provides warmth in temperatures as low as 20°F. The sleeping bag is made from durable, water-resistant material that withstands outdoor conditions. It includes a zippered closure and a draft tube to prevent cold air from entering. The sleeping bag is lightweight and easy to pack, making it perfect for hiking or backpacking. It is available in multiple sizes to accommodate different body types and preferences. The sleeping bag is machine washable, ensuring easy cleaning and maintenance. Its compact design makes it easy to store when not in use. The sleeping bag is perfect for camping, road trips, or emergency preparedness. This sleeping bag is a must-have for anyone who enjoys spending time outdoors.                                                                                                    |\n",
            "|P017      |f          |portable stove    |This portable stove is designed to make cooking easy and convenient during camping or outdoor adventures. It features a compact and lightweight design that fits easily in a backpack or car trunk. The stove includes adjustable burners for precise temperature control during cooking. It is compatible with various fuel types, including propane and butane canisters. The stove is easy to set up and use, with a simple ignition system for quick starts. It includes wind-resistant panels to ensure consistent performance in outdoor conditions. The stove is made from durable materials that withstand heat and rough handling. Its compact design makes it easy to clean and store after use. The portable stove is perfect for cooking meals, boiling water, or making coffee outdoors. This stove is an essential tool for anyone who enjoys camping or outdoor cooking.                                                                                              |\n",
            "+----------+-----------+------------------+-------------------------------------------------------------------------------------------------------------------------------------------------------------------------------------------------------------------------------------------------------------------------------------------------------------------------------------------------------------------------------------------------------------------------------------------------------------------------------------------------------------------------------------------------------------------------------------------------------------------------------------------------------------------------------------------------------------------------------------------------------------------------------------------------------------------------------------------------------------------------------------------------------------------------------------------------------------------------------------+\n",
            "\n"
          ]
        }
      ]
    },
    {
      "cell_type": "code",
      "source": [],
      "metadata": {
        "id": "gdfd6xuitHXG"
      },
      "execution_count": 66,
      "outputs": []
    }
  ]
}